{
 "cells": [
  {
   "cell_type": "code",
   "execution_count": 1,
   "metadata": {},
   "outputs": [
    {
     "name": "stdout",
     "output_type": "stream",
     "text": [
      "1 0 2\n",
      "2 1 4\n",
      "3 15 8\n",
      "4 2047 16\n"
     ]
    }
   ],
   "source": [
    "def solve(n):\n",
    "    ret = 0\n",
    "    for i in range(1<<(1<<n)):\n",
    "        eles = []\n",
    "        for j in range(1<<n):\n",
    "            if (i>>j)&1:\n",
    "                eles.append(j)\n",
    "        x = 0\n",
    "        for j in eles:\n",
    "            x = x^j\n",
    "        if x==0 and len(eles)%2==0 and len(eles)>0:\n",
    "            ret += 1\n",
    "            # print(eles)\n",
    "    print(n, ret, (1<<n))\n",
    "solve(1)\n",
    "solve(2)\n",
    "solve(3)\n",
    "solve(4)\n",
    "\n"
   ]
  }
 ],
 "metadata": {
  "kernelspec": {
   "display_name": "Python 3.9.5 64-bit",
   "language": "python",
   "name": "python3"
  },
  "language_info": {
   "codemirror_mode": {
    "name": "ipython",
    "version": 3
   },
   "file_extension": ".py",
   "mimetype": "text/x-python",
   "name": "python",
   "nbconvert_exporter": "python",
   "pygments_lexer": "ipython3",
   "version": "3.8.9"
  },
  "orig_nbformat": 4,
  "vscode": {
   "interpreter": {
    "hash": "31f2aee4e71d21fbe5cf8b01ff0e069b9275f58929596ceb00d14d90e3e16cd6"
   }
  }
 },
 "nbformat": 4,
 "nbformat_minor": 2
}
