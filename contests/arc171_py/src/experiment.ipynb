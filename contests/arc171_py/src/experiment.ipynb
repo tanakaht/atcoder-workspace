{
 "cells": [
  {
   "cell_type": "code",
   "execution_count": 8,
   "metadata": {},
   "outputs": [
    {
     "name": "stdout",
     "output_type": "stream",
     "text": [
      "(1, 5, 6, 0, 2, 3, 7, 4)\n",
      "(1, 5, 6, 0, 2, 4, 7, 3)\n",
      "(1, 5, 6, 0, 3, 2, 7, 4)\n",
      "(1, 5, 6, 0, 3, 4, 7, 2)\n",
      "(1, 5, 6, 0, 4, 2, 7, 3)\n",
      "(1, 5, 6, 0, 4, 3, 7, 2)\n",
      "(1, 5, 6, 2, 0, 3, 7, 4)\n",
      "(1, 5, 6, 2, 0, 4, 7, 3)\n",
      "(1, 5, 6, 2, 3, 0, 7, 4)\n",
      "(1, 5, 6, 2, 3, 4, 7, 0)\n",
      "(1, 5, 6, 2, 4, 0, 7, 3)\n",
      "(1, 5, 6, 2, 4, 3, 7, 0)\n",
      "(1, 5, 6, 3, 0, 2, 7, 4)\n",
      "(1, 5, 6, 3, 0, 4, 7, 2)\n",
      "(1, 5, 6, 3, 2, 0, 7, 4)\n",
      "(1, 5, 6, 3, 2, 4, 7, 0)\n",
      "(1, 5, 6, 3, 4, 0, 7, 2)\n",
      "(1, 5, 6, 3, 4, 2, 7, 0)\n"
     ]
    }
   ],
   "source": [
    "import itertools\n",
    "N = 8\n",
    "A = [5, 5, 7, 3, 4, 5, 7, 7]\n",
    "cnt = 0\n",
    "for P in itertools.permutations(range(N)):\n",
    "    B = [i for i in range(N)]\n",
    "    while True:\n",
    "        flg = False\n",
    "        for i in range(N):\n",
    "            if B[i] < P[B[i]]:\n",
    "                B[i] = P[B[i]]\n",
    "                flg = True\n",
    "                break\n",
    "        if not flg:\n",
    "            break\n",
    "    if B==A:\n",
    "        print(P)\n"
   ]
  },
  {
   "cell_type": "code",
   "execution_count": 6,
   "metadata": {},
   "outputs": [
    {
     "name": "stdout",
     "output_type": "stream",
     "text": [
      "[1.7838149933931957e-05, 3.538521595425741e-05, 0.001259814317912433, 0.0027569815329979304, 0.003465844682434217, 0.0044050538677190025, 0.00463723551581622, 0.005715802267658111, 0.010988861428143728, 0.011723997743630182, 0.013631811289067645, 0.01457322039827061, 0.01538538754401893, 0.016168393961462506, 0.016467281057124455, 0.021730050612624265, 0.033895338027332376, 0.03432886479236494, 0.041151768134149884, 0.041941225906993077, 0.05078779386299595, 0.050836705242651506, 0.053453787639894314, 0.05976140720300473, 0.06124097848057987, 0.07444705545087227, 0.07688614098750107, 0.07775136116717463, 0.08283498645214422, 0.08562335029915234, 0.08827542508190168, 0.09544077790574765, 0.09669652677775067, 0.1075224294177045, 0.10886255072211137, 0.12273205758868908, 0.12534406578398738, 0.13452286222352855, 0.14378742400912256, 0.14395633880211173, 0.14578493448848587, 0.1468297601129488, 0.14951752804456464, 0.16395544665149933, 0.17239100871917112, 0.1833089459900187, 0.20309615633418196, 0.2101710183479692, 0.21269307769617737, 0.24863779384828205, 0.2616811442405989, 0.26260131401041775, 0.2639097064893736, 0.2699268236391083, 0.2782347001213429, 0.28073819951678924, 0.2968841536347875, 0.30445941541852034, 0.3076842397110124, 0.3083842661824767, 0.3313430808944347, 0.3428496059935929, 0.36911248047668316, 0.3993954480515391, 0.40657011286276845, 0.436076687640277, 0.46346431275791383, 0.46543315522672896, 0.4991495353414239, 0.511586798492529, 0.5893839408014325, 0.5929070700610438, 0.5948072528776797, 0.6024508572838256, 0.605939703505141, 0.6334598224310475, 0.6462336643402177, 0.7379549287386695, 0.7554975525794886, 0.7569811955997722, 0.7711222396334252, 0.8502261462878665, 0.9094268257938496, 0.9502775830899299, 0.968715010818302, 1.0200148339496709, 1.021375227964489, 1.1276803735814966, 1.1565374777132664, 1.1918731410929215, 1.2092708562523218, 1.3124026000612083, 1.338261782136799, 1.5886891724346233, 1.682202031340704, 1.7947708083241642, 1.8858834338658375, 2.5777514121249614, 2.595178332264541, 3.0768939613083366]\n"
     ]
    }
   ],
   "source": [
    "import numpy as np\n",
    "import math\n",
    "rng = np.random.default_rng()\n",
    "def ptn(k, v, e, n):\n",
    "    return sorted([rng.normal((k-v)*e+v*(1-e), math.sqrt(k*e*(1-e)))**2 for _ in range(n)])\n",
    "print(ptn(2, 0, 0.2, 100))"
   ]
  },
  {
   "cell_type": "code",
   "execution_count": 7,
   "metadata": {},
   "outputs": [
    {
     "name": "stdout",
     "output_type": "stream",
     "text": [
      "Help on built-in function normal:\n",
      "\n",
      "normal(...) method of numpy.random._generator.Generator instance\n",
      "    normal(loc=0.0, scale=1.0, size=None)\n",
      "    \n",
      "    Draw random samples from a normal (Gaussian) distribution.\n",
      "    \n",
      "    The probability density function of the normal distribution, first\n",
      "    derived by De Moivre and 200 years later by both Gauss and Laplace\n",
      "    independently [2]_, is often called the bell curve because of\n",
      "    its characteristic shape (see the example below).\n",
      "    \n",
      "    The normal distributions occurs often in nature.  For example, it\n",
      "    describes the commonly occurring distribution of samples influenced\n",
      "    by a large number of tiny, random disturbances, each with its own\n",
      "    unique distribution [2]_.\n",
      "    \n",
      "    Parameters\n",
      "    ----------\n",
      "    loc : float or array_like of floats\n",
      "        Mean (\"centre\") of the distribution.\n",
      "    scale : float or array_like of floats\n",
      "        Standard deviation (spread or \"width\") of the distribution. Must be\n",
      "        non-negative.\n",
      "    size : int or tuple of ints, optional\n",
      "        Output shape.  If the given shape is, e.g., ``(m, n, k)``, then\n",
      "        ``m * n * k`` samples are drawn.  If size is ``None`` (default),\n",
      "        a single value is returned if ``loc`` and ``scale`` are both scalars.\n",
      "        Otherwise, ``np.broadcast(loc, scale).size`` samples are drawn.\n",
      "    \n",
      "    Returns\n",
      "    -------\n",
      "    out : ndarray or scalar\n",
      "        Drawn samples from the parameterized normal distribution.\n",
      "    \n",
      "    See Also\n",
      "    --------\n",
      "    scipy.stats.norm : probability density function, distribution or\n",
      "        cumulative density function, etc.\n",
      "    \n",
      "    Notes\n",
      "    -----\n",
      "    The probability density for the Gaussian distribution is\n",
      "    \n",
      "    .. math:: p(x) = \\frac{1}{\\sqrt{ 2 \\pi \\sigma^2 }}\n",
      "                     e^{ - \\frac{ (x - \\mu)^2 } {2 \\sigma^2} },\n",
      "    \n",
      "    where :math:`\\mu` is the mean and :math:`\\sigma` the standard\n",
      "    deviation. The square of the standard deviation, :math:`\\sigma^2`,\n",
      "    is called the variance.\n",
      "    \n",
      "    The function has its peak at the mean, and its \"spread\" increases with\n",
      "    the standard deviation (the function reaches 0.607 times its maximum at\n",
      "    :math:`x + \\sigma` and :math:`x - \\sigma` [2]_).  This implies that\n",
      "    :meth:`normal` is more likely to return samples lying close to the\n",
      "    mean, rather than those far away.\n",
      "    \n",
      "    References\n",
      "    ----------\n",
      "    .. [1] Wikipedia, \"Normal distribution\",\n",
      "           https://en.wikipedia.org/wiki/Normal_distribution\n",
      "    .. [2] P. R. Peebles Jr., \"Central Limit Theorem\" in \"Probability,\n",
      "           Random Variables and Random Signal Principles\", 4th ed., 2001,\n",
      "           pp. 51, 51, 125.\n",
      "    \n",
      "    Examples\n",
      "    --------\n",
      "    Draw samples from the distribution:\n",
      "    \n",
      "    >>> mu, sigma = 0, 0.1 # mean and standard deviation\n",
      "    >>> s = np.random.default_rng().normal(mu, sigma, 1000)\n",
      "    \n",
      "    Verify the mean and the variance:\n",
      "    \n",
      "    >>> abs(mu - np.mean(s))\n",
      "    0.0  # may vary\n",
      "    \n",
      "    >>> abs(sigma - np.std(s, ddof=1))\n",
      "    0.0  # may vary\n",
      "    \n",
      "    Display the histogram of the samples, along with\n",
      "    the probability density function:\n",
      "    \n",
      "    >>> import matplotlib.pyplot as plt\n",
      "    >>> count, bins, ignored = plt.hist(s, 30, density=True)\n",
      "    >>> plt.plot(bins, 1/(sigma * np.sqrt(2 * np.pi)) *\n",
      "    ...                np.exp( - (bins - mu)**2 / (2 * sigma**2) ),\n",
      "    ...          linewidth=2, color='r')\n",
      "    >>> plt.show()\n",
      "    \n",
      "    Two-by-four array of samples from N(3, 6.25):\n",
      "    \n",
      "    >>> np.random.default_rng().normal(3, 2.5, size=(2, 4))\n",
      "    array([[-4.49401501,  4.00950034, -1.81814867,  7.29718677],   # random\n",
      "           [ 0.39924804,  4.68456316,  4.99394529,  4.84057254]])  # random\n",
      "\n"
     ]
    }
   ],
   "source": [
    "help(rng.normal)"
   ]
  }
 ],
 "metadata": {
  "kernelspec": {
   "display_name": "Python 3",
   "language": "python",
   "name": "python3"
  },
  "language_info": {
   "codemirror_mode": {
    "name": "ipython",
    "version": 3
   },
   "file_extension": ".py",
   "mimetype": "text/x-python",
   "name": "python",
   "nbconvert_exporter": "python",
   "pygments_lexer": "ipython3",
   "version": "3.9.5"
  }
 },
 "nbformat": 4,
 "nbformat_minor": 2
}
