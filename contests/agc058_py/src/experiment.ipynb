{
 "cells": [
  {
   "cell_type": "code",
   "execution_count": 3,
   "metadata": {},
   "outputs": [
    {
     "name": "stdout",
     "output_type": "stream",
     "text": [
      "['2134', '2144', '2234', '2244', '2334', '2344', '2444', '3334', '3344', '3444', '4444']\n"
     ]
    }
   ],
   "source": [
    "s = set()\n",
    "s.add(\"2134\")\n",
    "pre_len = 0\n",
    "while pre_len<len(s):\n",
    "    pre_len = len(s)\n",
    "    for x in list(s):\n",
    "        for i in range(3):\n",
    "            x_ = x[:i]+max(x[i+1],x[i])*2 + x[i+2:]\n",
    "            s.add(x_)\n",
    "print(sorted(s))\n"
   ]
  }
 ],
 "metadata": {
  "kernelspec": {
   "display_name": "Python 3.9.5 64-bit",
   "language": "python",
   "name": "python3"
  },
  "language_info": {
   "codemirror_mode": {
    "name": "ipython",
    "version": 3
   },
   "file_extension": ".py",
   "mimetype": "text/x-python",
   "name": "python",
   "nbconvert_exporter": "python",
   "pygments_lexer": "ipython3",
   "version": "3.9.5"
  },
  "orig_nbformat": 4,
  "vscode": {
   "interpreter": {
    "hash": "31f2aee4e71d21fbe5cf8b01ff0e069b9275f58929596ceb00d14d90e3e16cd6"
   }
  }
 },
 "nbformat": 4,
 "nbformat_minor": 2
}
